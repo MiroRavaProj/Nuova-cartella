{
 "cells": [
  {
   "cell_type": "code",
   "execution_count": 4,
   "metadata": {
    "collapsed": true,
    "pycharm": {
     "name": "#%%\n"
    }
   },
   "outputs": [],
   "source": [
    "import requests as rq\n",
    "import json\n",
    "import time"
   ]
  },
  {
   "cell_type": "code",
   "execution_count": 5,
   "metadata": {
    "collapsed": false,
    "pycharm": {
     "name": "#%%\n"
    }
   },
   "outputs": [],
   "source": [
    "fields = [\"launch\",\"astronaut\",\"launcher\"]\n",
    "di = {\"launch\":6748,\"astronaut\":714,\"launcher\":117} #6748 714 117\n",
    "for name in fields:\n",
    "    num = 0\n",
    "    info = []\n",
    "    for x in range(int(di[name]/100)+1):\n",
    "        URL = f'https://ll.thespacedevs.com/2.2.0/{name}/?limit=100&offset={num}'\n",
    "        r = rq.get(url=URL)\n",
    "        num+=100\n",
    "        data = r.json()\n",
    "        info.extend(data[\"results\"])\n",
    "        time.sleep(250)\n",
    "\n",
    "    with open(f'{name}.json', 'w') as output:\n",
    "            json.dump(info, output)"
   ]
  }
 ],
 "metadata": {
  "kernelspec": {
   "display_name": "Python 3.10.4 64-bit",
   "language": "python",
   "name": "python3"
  },
  "language_info": {
   "codemirror_mode": {
    "name": "ipython",
    "version": 2
   },
   "file_extension": ".py",
   "mimetype": "text/x-python",
   "name": "python",
   "nbconvert_exporter": "python",
   "pygments_lexer": "ipython2",
   "version": "3.10.4"
  },
  "vscode": {
   "interpreter": {
    "hash": "8c3d4d9970fc5c09c50d9318a9c7fbf4d0159e4b28833276f5678ee22bded273"
   }
  }
 },
 "nbformat": 4,
 "nbformat_minor": 0
}