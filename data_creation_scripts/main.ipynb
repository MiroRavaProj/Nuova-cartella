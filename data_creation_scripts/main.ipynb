{
 "cells": [
  {
   "cell_type": "markdown",
   "metadata": {
    "pycharm": {
     "name": "#%% md\n"
    }
   },
   "source": [
    "# TO DO LIST\n",
    "add/remove astronauts\n",
    "add/remove rockets\n",
    "add/remove launches\n",
    "\n",
    "query all astronauts between year and year\n",
    "query all launches\n",
    "query all rockets retired/active/destroyed\n",
    "\n",
    "geo.json with launch location\n",
    "px.express png return with location\n",
    "\n",
    "a"
   ]
  },
  {
   "cell_type": "code",
   "execution_count": 1,
   "metadata": {
    "pycharm": {
     "name": "#%%\n"
    }
   },
   "outputs": [],
   "source": [
    "import pandas as pd"
   ]
  },
  {
   "cell_type": "code",
   "execution_count": 2,
   "metadata": {
    "pycharm": {
     "name": "#%%\n"
    }
   },
   "outputs": [],
   "source": [
    "def opener(name : str) -> pd.DataFrame:\n",
    "    import json\n",
    "    with open(name) as data_file:    \n",
    "        data = json.load(data_file)  \n",
    "\n",
    "    df = pd.json_normalize(data)\n",
    "    return df"
   ]
  },
  {
   "cell_type": "code",
   "execution_count": 3,
   "metadata": {
    "pycharm": {
     "name": "#%%\n"
    }
   },
   "outputs": [],
   "source": [
    "df_astronaut = opener('data/astronaut.json')\n",
    "df_launch = opener('data/launch.json')\n",
    "df_launcher = opener('data/launcher.json')"
   ]
  },
  {
   "cell_type": "code",
   "execution_count": 4,
   "metadata": {
    "pycharm": {
     "name": "#%%\n"
    }
   },
   "outputs": [
    {
     "data": {
      "text/plain": "      id                                               url  \\\n0      1    https://ll.thespacedevs.com/2.2.0/astronaut/1/   \n1      2    https://ll.thespacedevs.com/2.2.0/astronaut/2/   \n2      3    https://ll.thespacedevs.com/2.2.0/astronaut/3/   \n3      4    https://ll.thespacedevs.com/2.2.0/astronaut/4/   \n4      5    https://ll.thespacedevs.com/2.2.0/astronaut/5/   \n..   ...                                               ...   \n709  741  https://ll.thespacedevs.com/2.2.0/astronaut/741/   \n710  742  https://ll.thespacedevs.com/2.2.0/astronaut/742/   \n711  743  https://ll.thespacedevs.com/2.2.0/astronaut/743/   \n712  744  https://ll.thespacedevs.com/2.2.0/astronaut/744/   \n713  745  https://ll.thespacedevs.com/2.2.0/astronaut/745/   \n\n                          name   age date_of_birth date_of_death nationality  \\\n0               Thomas Pesquet  44.0    1978-02-27          None      French   \n1             Claude Nicollier  78.0    1944-09-02          None       Swiss   \n2                    Tim Peake  50.0    1972-04-07          None     British   \n3                  Buzz Aldrin  92.0    1930-01-20          None    American   \n4               Chris Hadfield  63.0    1959-08-29          None    Canadian   \n..                         ...   ...           ...           ...         ...   \n709  Commander Moonikin Campos   NaN          None          None   Earthling   \n710                      Helga   NaN          None          None   Earthling   \n711                      Zohar   NaN          None          None   Earthling   \n712            Shaun the Sheep   NaN          None          None   Earthling   \n713                     Snoopy   NaN          None          None   Earthling   \n\n                                                   bio  \\\n0    Thomas Gautier Pesquet is a French aerospace e...   \n1    Claude Nicollier is the first astronaut from S...   \n2    Major Timothy Nigel Peake CMG is a British Arm...   \n3    Buzz Aldrin; born Edwin Eugene Aldrin Jr.; is ...   \n4    Chris Austin Hadfield is a Canadian retired as...   \n..                                                 ...   \n709  Commander Moonikin Campos is an Anthropomorphi...   \n710  Mannequin used as part of the DLR MARE radiati...   \n711  Mannequin used as part of the DLR MARE radiati...   \n712  Shaun the Sheep is the main character of the e...   \n713  This Snoopy plushie serves as zero-G indicator...   \n\n                                twitter  \\\n0        https://twitter.com/Thom_astro   \n1       https://twitter.com/Astroclaude   \n2    https://twitter.com/astro_timpeake   \n3       https://twitter.com/TheRealBuzz   \n4     https://twitter.com/Cmdr_Hadfield   \n..                                  ...   \n709                                None   \n710                                None   \n711                                None   \n712                                None   \n713                                None   \n\n                                       instagram  ... agency.abbrev  \\\n0               https://instagram.com/thom_astro  ...           ESA   \n1                                           None  ...           ESA   \n2      https://www.instagram.com/astro_timpeake/  ...           ESA   \n3        https://www.instagram.com/drbuzzaldrin/  ...          NASA   \n4    https://www.instagram.com/colchrishadfield/  ...           CSA   \n..                                           ...  ...           ...   \n709                                         None  ...          NASA   \n710                                         None  ...           DLR   \n711                                         None  ...           DLR   \n712                                         None  ...           ESA   \n713                                         None  ...          NASA   \n\n                                    agency.description  \\\n0    The European Space Agency is an intergovernmen...   \n1    The European Space Agency is an intergovernmen...   \n2    The European Space Agency is an intergovernmen...   \n3    The National Aeronautics and Space Administrat...   \n4    The Canadian Space Agency was established by t...   \n..                                                 ...   \n709  The National Aeronautics and Space Administrat...   \n710  The German Aerospace Center is Germany's Cente...   \n711  The German Aerospace Center is Germany's Cente...   \n712  The European Space Agency is an intergovernmen...   \n713  The National Aeronautics and Space Administrat...   \n\n           agency.administrator  agency.founding_year     agency.launchers  \\\n0        Johann-Dietrich Wörner                  1975                        \n1        Johann-Dietrich Wörner                  1975                        \n2        Johann-Dietrich Wörner                  1975                        \n3    Administrator: Bill Nelson                  1958  Space Shuttle | SLS   \n4                          None                  1990                        \n..                          ...                   ...                  ...   \n709  Administrator: Bill Nelson                  1958  Space Shuttle | SLS   \n710         Pascale Ehrenfreund                  1969                        \n711         Pascale Ehrenfreund                  1969                        \n712      Johann-Dietrich Wörner                  1975                        \n713  Administrator: Bill Nelson                  1958  Space Shuttle | SLS   \n\n                 agency.spacecraft agency.parent  \\\n0                                            NaN   \n1                                            NaN   \n2                                            NaN   \n3                            Orion           NaN   \n4                                            NaN   \n..                             ...           ...   \n709                          Orion           NaN   \n710  Mars Express | Rosetta | Dawn           NaN   \n711  Mars Express | Rosetta | Dawn           NaN   \n712                                          NaN   \n713                          Orion           NaN   \n\n                                      agency.image_url  \\\n0                                                 None   \n1                                                 None   \n2                                                 None   \n3    https://spacelaunchnow-prod-east.nyc3.digitalo...   \n4                                                 None   \n..                                                 ...   \n709  https://spacelaunchnow-prod-east.nyc3.digitalo...   \n710                                               None   \n711                                               None   \n712                                               None   \n713  https://spacelaunchnow-prod-east.nyc3.digitalo...   \n\n                                       agency.logo_url  agency  \n0    https://spacelaunchnow-prod-east.nyc3.digitalo...     NaN  \n1    https://spacelaunchnow-prod-east.nyc3.digitalo...     NaN  \n2    https://spacelaunchnow-prod-east.nyc3.digitalo...     NaN  \n3    https://spacelaunchnow-prod-east.nyc3.digitalo...     NaN  \n4    https://spacelaunchnow-prod-east.nyc3.digitalo...     NaN  \n..                                                 ...     ...  \n709  https://spacelaunchnow-prod-east.nyc3.digitalo...     NaN  \n710                                               None     NaN  \n711                                               None     NaN  \n712  https://spacelaunchnow-prod-east.nyc3.digitalo...     NaN  \n713  https://spacelaunchnow-prod-east.nyc3.digitalo...     NaN  \n\n[714 rows x 37 columns]",
      "text/html": "<div>\n<style scoped>\n    .dataframe tbody tr th:only-of-type {\n        vertical-align: middle;\n    }\n\n    .dataframe tbody tr th {\n        vertical-align: top;\n    }\n\n    .dataframe thead th {\n        text-align: right;\n    }\n</style>\n<table border=\"1\" class=\"dataframe\">\n  <thead>\n    <tr style=\"text-align: right;\">\n      <th></th>\n      <th>id</th>\n      <th>url</th>\n      <th>name</th>\n      <th>age</th>\n      <th>date_of_birth</th>\n      <th>date_of_death</th>\n      <th>nationality</th>\n      <th>bio</th>\n      <th>twitter</th>\n      <th>instagram</th>\n      <th>...</th>\n      <th>agency.abbrev</th>\n      <th>agency.description</th>\n      <th>agency.administrator</th>\n      <th>agency.founding_year</th>\n      <th>agency.launchers</th>\n      <th>agency.spacecraft</th>\n      <th>agency.parent</th>\n      <th>agency.image_url</th>\n      <th>agency.logo_url</th>\n      <th>agency</th>\n    </tr>\n  </thead>\n  <tbody>\n    <tr>\n      <th>0</th>\n      <td>1</td>\n      <td>https://ll.thespacedevs.com/2.2.0/astronaut/1/</td>\n      <td>Thomas Pesquet</td>\n      <td>44.0</td>\n      <td>1978-02-27</td>\n      <td>None</td>\n      <td>French</td>\n      <td>Thomas Gautier Pesquet is a French aerospace e...</td>\n      <td>https://twitter.com/Thom_astro</td>\n      <td>https://instagram.com/thom_astro</td>\n      <td>...</td>\n      <td>ESA</td>\n      <td>The European Space Agency is an intergovernmen...</td>\n      <td>Johann-Dietrich Wörner</td>\n      <td>1975</td>\n      <td></td>\n      <td></td>\n      <td>NaN</td>\n      <td>None</td>\n      <td>https://spacelaunchnow-prod-east.nyc3.digitalo...</td>\n      <td>NaN</td>\n    </tr>\n    <tr>\n      <th>1</th>\n      <td>2</td>\n      <td>https://ll.thespacedevs.com/2.2.0/astronaut/2/</td>\n      <td>Claude Nicollier</td>\n      <td>78.0</td>\n      <td>1944-09-02</td>\n      <td>None</td>\n      <td>Swiss</td>\n      <td>Claude Nicollier is the first astronaut from S...</td>\n      <td>https://twitter.com/Astroclaude</td>\n      <td>None</td>\n      <td>...</td>\n      <td>ESA</td>\n      <td>The European Space Agency is an intergovernmen...</td>\n      <td>Johann-Dietrich Wörner</td>\n      <td>1975</td>\n      <td></td>\n      <td></td>\n      <td>NaN</td>\n      <td>None</td>\n      <td>https://spacelaunchnow-prod-east.nyc3.digitalo...</td>\n      <td>NaN</td>\n    </tr>\n    <tr>\n      <th>2</th>\n      <td>3</td>\n      <td>https://ll.thespacedevs.com/2.2.0/astronaut/3/</td>\n      <td>Tim Peake</td>\n      <td>50.0</td>\n      <td>1972-04-07</td>\n      <td>None</td>\n      <td>British</td>\n      <td>Major Timothy Nigel Peake CMG is a British Arm...</td>\n      <td>https://twitter.com/astro_timpeake</td>\n      <td>https://www.instagram.com/astro_timpeake/</td>\n      <td>...</td>\n      <td>ESA</td>\n      <td>The European Space Agency is an intergovernmen...</td>\n      <td>Johann-Dietrich Wörner</td>\n      <td>1975</td>\n      <td></td>\n      <td></td>\n      <td>NaN</td>\n      <td>None</td>\n      <td>https://spacelaunchnow-prod-east.nyc3.digitalo...</td>\n      <td>NaN</td>\n    </tr>\n    <tr>\n      <th>3</th>\n      <td>4</td>\n      <td>https://ll.thespacedevs.com/2.2.0/astronaut/4/</td>\n      <td>Buzz Aldrin</td>\n      <td>92.0</td>\n      <td>1930-01-20</td>\n      <td>None</td>\n      <td>American</td>\n      <td>Buzz Aldrin; born Edwin Eugene Aldrin Jr.; is ...</td>\n      <td>https://twitter.com/TheRealBuzz</td>\n      <td>https://www.instagram.com/drbuzzaldrin/</td>\n      <td>...</td>\n      <td>NASA</td>\n      <td>The National Aeronautics and Space Administrat...</td>\n      <td>Administrator: Bill Nelson</td>\n      <td>1958</td>\n      <td>Space Shuttle | SLS</td>\n      <td>Orion</td>\n      <td>NaN</td>\n      <td>https://spacelaunchnow-prod-east.nyc3.digitalo...</td>\n      <td>https://spacelaunchnow-prod-east.nyc3.digitalo...</td>\n      <td>NaN</td>\n    </tr>\n    <tr>\n      <th>4</th>\n      <td>5</td>\n      <td>https://ll.thespacedevs.com/2.2.0/astronaut/5/</td>\n      <td>Chris Hadfield</td>\n      <td>63.0</td>\n      <td>1959-08-29</td>\n      <td>None</td>\n      <td>Canadian</td>\n      <td>Chris Austin Hadfield is a Canadian retired as...</td>\n      <td>https://twitter.com/Cmdr_Hadfield</td>\n      <td>https://www.instagram.com/colchrishadfield/</td>\n      <td>...</td>\n      <td>CSA</td>\n      <td>The Canadian Space Agency was established by t...</td>\n      <td>None</td>\n      <td>1990</td>\n      <td></td>\n      <td></td>\n      <td>NaN</td>\n      <td>None</td>\n      <td>https://spacelaunchnow-prod-east.nyc3.digitalo...</td>\n      <td>NaN</td>\n    </tr>\n    <tr>\n      <th>...</th>\n      <td>...</td>\n      <td>...</td>\n      <td>...</td>\n      <td>...</td>\n      <td>...</td>\n      <td>...</td>\n      <td>...</td>\n      <td>...</td>\n      <td>...</td>\n      <td>...</td>\n      <td>...</td>\n      <td>...</td>\n      <td>...</td>\n      <td>...</td>\n      <td>...</td>\n      <td>...</td>\n      <td>...</td>\n      <td>...</td>\n      <td>...</td>\n      <td>...</td>\n      <td>...</td>\n    </tr>\n    <tr>\n      <th>709</th>\n      <td>741</td>\n      <td>https://ll.thespacedevs.com/2.2.0/astronaut/741/</td>\n      <td>Commander Moonikin Campos</td>\n      <td>NaN</td>\n      <td>None</td>\n      <td>None</td>\n      <td>Earthling</td>\n      <td>Commander Moonikin Campos is an Anthropomorphi...</td>\n      <td>None</td>\n      <td>None</td>\n      <td>...</td>\n      <td>NASA</td>\n      <td>The National Aeronautics and Space Administrat...</td>\n      <td>Administrator: Bill Nelson</td>\n      <td>1958</td>\n      <td>Space Shuttle | SLS</td>\n      <td>Orion</td>\n      <td>NaN</td>\n      <td>https://spacelaunchnow-prod-east.nyc3.digitalo...</td>\n      <td>https://spacelaunchnow-prod-east.nyc3.digitalo...</td>\n      <td>NaN</td>\n    </tr>\n    <tr>\n      <th>710</th>\n      <td>742</td>\n      <td>https://ll.thespacedevs.com/2.2.0/astronaut/742/</td>\n      <td>Helga</td>\n      <td>NaN</td>\n      <td>None</td>\n      <td>None</td>\n      <td>Earthling</td>\n      <td>Mannequin used as part of the DLR MARE radiati...</td>\n      <td>None</td>\n      <td>None</td>\n      <td>...</td>\n      <td>DLR</td>\n      <td>The German Aerospace Center is Germany's Cente...</td>\n      <td>Pascale Ehrenfreund</td>\n      <td>1969</td>\n      <td></td>\n      <td>Mars Express | Rosetta | Dawn</td>\n      <td>NaN</td>\n      <td>None</td>\n      <td>None</td>\n      <td>NaN</td>\n    </tr>\n    <tr>\n      <th>711</th>\n      <td>743</td>\n      <td>https://ll.thespacedevs.com/2.2.0/astronaut/743/</td>\n      <td>Zohar</td>\n      <td>NaN</td>\n      <td>None</td>\n      <td>None</td>\n      <td>Earthling</td>\n      <td>Mannequin used as part of the DLR MARE radiati...</td>\n      <td>None</td>\n      <td>None</td>\n      <td>...</td>\n      <td>DLR</td>\n      <td>The German Aerospace Center is Germany's Cente...</td>\n      <td>Pascale Ehrenfreund</td>\n      <td>1969</td>\n      <td></td>\n      <td>Mars Express | Rosetta | Dawn</td>\n      <td>NaN</td>\n      <td>None</td>\n      <td>None</td>\n      <td>NaN</td>\n    </tr>\n    <tr>\n      <th>712</th>\n      <td>744</td>\n      <td>https://ll.thespacedevs.com/2.2.0/astronaut/744/</td>\n      <td>Shaun the Sheep</td>\n      <td>NaN</td>\n      <td>None</td>\n      <td>None</td>\n      <td>Earthling</td>\n      <td>Shaun the Sheep is the main character of the e...</td>\n      <td>None</td>\n      <td>None</td>\n      <td>...</td>\n      <td>ESA</td>\n      <td>The European Space Agency is an intergovernmen...</td>\n      <td>Johann-Dietrich Wörner</td>\n      <td>1975</td>\n      <td></td>\n      <td></td>\n      <td>NaN</td>\n      <td>None</td>\n      <td>https://spacelaunchnow-prod-east.nyc3.digitalo...</td>\n      <td>NaN</td>\n    </tr>\n    <tr>\n      <th>713</th>\n      <td>745</td>\n      <td>https://ll.thespacedevs.com/2.2.0/astronaut/745/</td>\n      <td>Snoopy</td>\n      <td>NaN</td>\n      <td>None</td>\n      <td>None</td>\n      <td>Earthling</td>\n      <td>This Snoopy plushie serves as zero-G indicator...</td>\n      <td>None</td>\n      <td>None</td>\n      <td>...</td>\n      <td>NASA</td>\n      <td>The National Aeronautics and Space Administrat...</td>\n      <td>Administrator: Bill Nelson</td>\n      <td>1958</td>\n      <td>Space Shuttle | SLS</td>\n      <td>Orion</td>\n      <td>NaN</td>\n      <td>https://spacelaunchnow-prod-east.nyc3.digitalo...</td>\n      <td>https://spacelaunchnow-prod-east.nyc3.digitalo...</td>\n      <td>NaN</td>\n    </tr>\n  </tbody>\n</table>\n<p>714 rows × 37 columns</p>\n</div>"
     },
     "execution_count": 4,
     "metadata": {},
     "output_type": "execute_result"
    }
   ],
   "source": [
    "df_astronaut"
   ]
  },
  {
   "cell_type": "code",
   "execution_count": 5,
   "metadata": {
    "pycharm": {
     "name": "#%%\n"
    }
   },
   "outputs": [
    {
     "data": {
      "text/plain": "Index(['id', 'url', 'name', 'age', 'date_of_birth', 'date_of_death',\n       'nationality', 'bio', 'twitter', 'instagram', 'wiki', 'profile_image',\n       'profile_image_thumbnail', 'flights_count', 'landings_count',\n       'last_flight', 'first_flight', 'status.id', 'status.name', 'type.id',\n       'type.name', 'agency.id', 'agency.url', 'agency.name',\n       'agency.featured', 'agency.type', 'agency.country_code',\n       'agency.abbrev', 'agency.description', 'agency.administrator',\n       'agency.founding_year', 'agency.launchers', 'agency.spacecraft',\n       'agency.parent', 'agency.image_url', 'agency.logo_url', 'agency'],\n      dtype='object')"
     },
     "execution_count": 5,
     "metadata": {},
     "output_type": "execute_result"
    }
   ],
   "source": [
    "df_astronaut.columns"
   ]
  },
  {
   "cell_type": "code",
   "execution_count": 6,
   "metadata": {
    "pycharm": {
     "name": "#%%\n"
    }
   },
   "outputs": [],
   "source": [
    "df_astronaut.drop(columns=['url', 'twitter', 'instagram', 'profile_image_thumbnail',\n",
    "       'status.id', 'type.id', 'agency.id','agency.featured', 'agency.description', 'agency.administrator',\n",
    "       'agency.founding_year', 'agency.launchers', 'agency.spacecraft',\n",
    "       'agency.parent', 'agency.image_url', 'agency', 'agency.url'], inplace=True)"
   ]
  },
  {
   "cell_type": "code",
   "execution_count": 7,
   "metadata": {
    "pycharm": {
     "name": "#%%\n"
    }
   },
   "outputs": [
    {
     "name": "stdout",
     "output_type": "stream",
     "text": [
      "Index(['id', 'name', 'age', 'date_of_birth', 'date_of_death', 'nationality',\n",
      "       'bio', 'wiki', 'profile_image', 'flights_count', 'landings_count',\n",
      "       'last_flight', 'first_flight', 'status.name', 'type.name',\n",
      "       'agency.name', 'agency.type', 'agency.country_code', 'agency.abbrev',\n",
      "       'agency.logo_url'],\n",
      "      dtype='object')\n"
     ]
    }
   ],
   "source": [
    "x = df_astronaut.columns\n",
    "x = str(x).strip()\n",
    "print(x)"
   ]
  },
  {
   "cell_type": "code",
   "execution_count": 8,
   "metadata": {
    "pycharm": {
     "name": "#%%\n"
    }
   },
   "outputs": [
    {
     "data": {
      "text/plain": "                                        id  \\\n0     e3df2ecd-c239-472f-95e4-2b89b4f75800   \n1     f8c9f344-a6df-4f30-873a-90fe3a7840b3   \n2     535c1a09-97c8-4f96-bb64-6336d4bcb1fb   \n3     1b9e28d0-c531-44b0-9b37-244e62a6d3f4   \n4     48bc7deb-b2e1-46c2-ab63-0ce00fbd192b   \n...                                    ...   \n6751  a6420d1c-681c-46be-8d22-87c4b4586bee   \n6752  9c13e218-3b75-4d32-b984-68e974affb87   \n6753  7bae1d97-d479-4d4e-98b6-289202f99397   \n6754  36706be0-2633-4b1f-a036-5da1e19c6872   \n6755  f2043f7f-3c12-4511-8869-823f298498c4   \n\n                                                    url  \\\n0     https://ll.thespacedevs.com/2.2.0/launch/e3df2...   \n1     https://ll.thespacedevs.com/2.2.0/launch/f8c9f...   \n2     https://ll.thespacedevs.com/2.2.0/launch/535c1...   \n3     https://ll.thespacedevs.com/2.2.0/launch/1b9e2...   \n4     https://ll.thespacedevs.com/2.2.0/launch/48bc7...   \n...                                                 ...   \n6751  https://ll.thespacedevs.com/2.2.0/launch/a6420...   \n6752  https://ll.thespacedevs.com/2.2.0/launch/9c13e...   \n6753  https://ll.thespacedevs.com/2.2.0/launch/7bae1...   \n6754  https://ll.thespacedevs.com/2.2.0/launch/36706...   \n6755  https://ll.thespacedevs.com/2.2.0/launch/f2043...   \n\n                          slug                        name  \\\n0     sputnik-8k74ps-sputnik-1  Sputnik 8K74PS | Sputnik 1   \n1     sputnik-8k74ps-sputnik-2  Sputnik 8K74PS | Sputnik 2   \n2            vanguard-vanguard         Vanguard | Vanguard   \n3            juno-i-explorer-1         Juno-I | Explorer 1   \n4          vanguard-vanguard-2         Vanguard | Vanguard   \n...                        ...                         ...   \n6751          ariane-64-mtg-i3          Ariane 64 | MTG-I3   \n6752          ariane-64-mtg-s2          Ariane 64 | MTG-S2   \n6753     ariane-62-metop-sg-a3     Ariane 62 | Metop-SG A3   \n6754     ariane-62-metop-sg-b3     Ariane 62 | Metop-SG B3   \n6755          ariane-64-mtg-i4          Ariane 64 | MTG-I4   \n\n              last_updated                   net            window_end  \\\n0     2022-11-21T01:15:10Z  1957-10-04T19:28:34Z  1957-10-04T19:28:34Z   \n1     2022-11-21T01:20:25Z  1957-11-03T02:30:00Z  1957-11-03T02:30:00Z   \n2     2022-11-21T00:37:22Z  1957-12-06T16:44:35Z  1957-12-06T16:44:35Z   \n3     2022-11-21T00:23:16Z  1958-02-01T03:47:56Z  1958-02-01T03:47:56Z   \n4     2022-11-21T00:34:41Z  1958-02-05T07:33:00Z  1958-02-05T07:33:00Z   \n...                    ...                   ...                   ...   \n6751  2022-11-22T01:05:41Z  2032-12-31T00:00:00Z  2032-12-31T00:00:00Z   \n6752  2022-11-22T01:02:57Z  2034-12-31T00:00:00Z  2034-12-31T00:00:00Z   \n6753  2022-11-22T00:53:31Z  2038-12-31T00:00:00Z  2038-12-31T00:00:00Z   \n6754  2022-11-22T00:33:38Z  2039-12-31T00:00:00Z  2039-12-31T00:00:00Z   \n6755  2022-11-21T20:24:02Z  2042-12-31T00:00:00Z  2042-12-31T00:00:00Z   \n\n              window_start  probability holdreason  ...  \\\n0     1957-10-04T19:28:34Z          NaN       None  ...   \n1     1957-11-03T02:30:00Z          NaN       None  ...   \n2     1957-12-06T16:44:35Z          NaN       None  ...   \n3     1958-02-01T03:47:56Z          NaN       None  ...   \n4     1958-02-05T07:33:00Z          NaN       None  ...   \n...                    ...          ...        ...  ...   \n6751  2032-12-31T00:00:00Z          NaN             ...   \n6752  2034-12-31T00:00:00Z          NaN             ...   \n6753  2038-12-31T00:00:00Z          NaN             ...   \n6754  2039-12-31T00:00:00Z          NaN             ...   \n6755  2042-12-31T00:00:00Z          NaN             ...   \n\n                                pad.location.name pad.location.country_code  \\\n0     Baikonur Cosmodrome, Republic of Kazakhstan                       KAZ   \n1     Baikonur Cosmodrome, Republic of Kazakhstan                       KAZ   \n2                         Cape Canaveral, FL, USA                       USA   \n3                         Cape Canaveral, FL, USA                       USA   \n4                         Cape Canaveral, FL, USA                       USA   \n...                                           ...                       ...   \n6751                        Kourou, French Guiana                       GUF   \n6752                        Kourou, French Guiana                       GUF   \n6753                        Kourou, French Guiana                       GUF   \n6754                        Kourou, French Guiana                       GUF   \n6755                        Kourou, French Guiana                       GUF   \n\n                                 pad.location.map_image  \\\n0     https://spacelaunchnow-prod-east.nyc3.digitalo...   \n1     https://spacelaunchnow-prod-east.nyc3.digitalo...   \n2     https://spacelaunchnow-prod-east.nyc3.digitalo...   \n3     https://spacelaunchnow-prod-east.nyc3.digitalo...   \n4     https://spacelaunchnow-prod-east.nyc3.digitalo...   \n...                                                 ...   \n6751  https://spacelaunchnow-prod-east.nyc3.digitalo...   \n6752  https://spacelaunchnow-prod-east.nyc3.digitalo...   \n6753  https://spacelaunchnow-prod-east.nyc3.digitalo...   \n6754  https://spacelaunchnow-prod-east.nyc3.digitalo...   \n6755  https://spacelaunchnow-prod-east.nyc3.digitalo...   \n\n     pad.location.total_launch_count pad.location.total_landing_count  \\\n0                               1536                                0   \n1                               1536                                0   \n2                                864                               26   \n3                                864                               26   \n4                                864                               26   \n...                              ...                              ...   \n6751                             315                                0   \n6752                             315                                0   \n6753                             315                                0   \n6754                             315                                0   \n6755                             315                                0   \n\n                                          pad.map_image  \\\n0     https://spacelaunchnow-prod-east.nyc3.digitalo...   \n1     https://spacelaunchnow-prod-east.nyc3.digitalo...   \n2     https://spacelaunchnow-prod-east.nyc3.digitalo...   \n3     https://spacelaunchnow-prod-east.nyc3.digitalo...   \n4     https://spacelaunchnow-prod-east.nyc3.digitalo...   \n...                                                 ...   \n6751  https://spacelaunchnow-prod-east.nyc3.digitalo...   \n6752  https://spacelaunchnow-prod-east.nyc3.digitalo...   \n6753  https://spacelaunchnow-prod-east.nyc3.digitalo...   \n6754  https://spacelaunchnow-prod-east.nyc3.digitalo...   \n6755  https://spacelaunchnow-prod-east.nyc3.digitalo...   \n\n      pad.total_launch_count  pad.orbital_launch_attempt_count  mission  \\\n0                        487                               487      NaN   \n1                        487                               487      NaN   \n2                         18                                11      NaN   \n3                          3                                 3      NaN   \n4                         18                                11      NaN   \n...                      ...                               ...      ...   \n6751                       0                                 0      NaN   \n6752                       0                                 0      NaN   \n6753                       0                                 0      NaN   \n6754                       0                                 0      NaN   \n6755                       0                                 0      NaN   \n\n      mission.orbit  \n0               NaN  \n1               NaN  \n2               NaN  \n3               NaN  \n4               NaN  \n...             ...  \n6751            NaN  \n6752            NaN  \n6753            NaN  \n6754            NaN  \n6755            NaN  \n\n[6756 rows x 68 columns]",
      "text/html": "<div>\n<style scoped>\n    .dataframe tbody tr th:only-of-type {\n        vertical-align: middle;\n    }\n\n    .dataframe tbody tr th {\n        vertical-align: top;\n    }\n\n    .dataframe thead th {\n        text-align: right;\n    }\n</style>\n<table border=\"1\" class=\"dataframe\">\n  <thead>\n    <tr style=\"text-align: right;\">\n      <th></th>\n      <th>id</th>\n      <th>url</th>\n      <th>slug</th>\n      <th>name</th>\n      <th>last_updated</th>\n      <th>net</th>\n      <th>window_end</th>\n      <th>window_start</th>\n      <th>probability</th>\n      <th>holdreason</th>\n      <th>...</th>\n      <th>pad.location.name</th>\n      <th>pad.location.country_code</th>\n      <th>pad.location.map_image</th>\n      <th>pad.location.total_launch_count</th>\n      <th>pad.location.total_landing_count</th>\n      <th>pad.map_image</th>\n      <th>pad.total_launch_count</th>\n      <th>pad.orbital_launch_attempt_count</th>\n      <th>mission</th>\n      <th>mission.orbit</th>\n    </tr>\n  </thead>\n  <tbody>\n    <tr>\n      <th>0</th>\n      <td>e3df2ecd-c239-472f-95e4-2b89b4f75800</td>\n      <td>https://ll.thespacedevs.com/2.2.0/launch/e3df2...</td>\n      <td>sputnik-8k74ps-sputnik-1</td>\n      <td>Sputnik 8K74PS | Sputnik 1</td>\n      <td>2022-11-21T01:15:10Z</td>\n      <td>1957-10-04T19:28:34Z</td>\n      <td>1957-10-04T19:28:34Z</td>\n      <td>1957-10-04T19:28:34Z</td>\n      <td>NaN</td>\n      <td>None</td>\n      <td>...</td>\n      <td>Baikonur Cosmodrome, Republic of Kazakhstan</td>\n      <td>KAZ</td>\n      <td>https://spacelaunchnow-prod-east.nyc3.digitalo...</td>\n      <td>1536</td>\n      <td>0</td>\n      <td>https://spacelaunchnow-prod-east.nyc3.digitalo...</td>\n      <td>487</td>\n      <td>487</td>\n      <td>NaN</td>\n      <td>NaN</td>\n    </tr>\n    <tr>\n      <th>1</th>\n      <td>f8c9f344-a6df-4f30-873a-90fe3a7840b3</td>\n      <td>https://ll.thespacedevs.com/2.2.0/launch/f8c9f...</td>\n      <td>sputnik-8k74ps-sputnik-2</td>\n      <td>Sputnik 8K74PS | Sputnik 2</td>\n      <td>2022-11-21T01:20:25Z</td>\n      <td>1957-11-03T02:30:00Z</td>\n      <td>1957-11-03T02:30:00Z</td>\n      <td>1957-11-03T02:30:00Z</td>\n      <td>NaN</td>\n      <td>None</td>\n      <td>...</td>\n      <td>Baikonur Cosmodrome, Republic of Kazakhstan</td>\n      <td>KAZ</td>\n      <td>https://spacelaunchnow-prod-east.nyc3.digitalo...</td>\n      <td>1536</td>\n      <td>0</td>\n      <td>https://spacelaunchnow-prod-east.nyc3.digitalo...</td>\n      <td>487</td>\n      <td>487</td>\n      <td>NaN</td>\n      <td>NaN</td>\n    </tr>\n    <tr>\n      <th>2</th>\n      <td>535c1a09-97c8-4f96-bb64-6336d4bcb1fb</td>\n      <td>https://ll.thespacedevs.com/2.2.0/launch/535c1...</td>\n      <td>vanguard-vanguard</td>\n      <td>Vanguard | Vanguard</td>\n      <td>2022-11-21T00:37:22Z</td>\n      <td>1957-12-06T16:44:35Z</td>\n      <td>1957-12-06T16:44:35Z</td>\n      <td>1957-12-06T16:44:35Z</td>\n      <td>NaN</td>\n      <td>None</td>\n      <td>...</td>\n      <td>Cape Canaveral, FL, USA</td>\n      <td>USA</td>\n      <td>https://spacelaunchnow-prod-east.nyc3.digitalo...</td>\n      <td>864</td>\n      <td>26</td>\n      <td>https://spacelaunchnow-prod-east.nyc3.digitalo...</td>\n      <td>18</td>\n      <td>11</td>\n      <td>NaN</td>\n      <td>NaN</td>\n    </tr>\n    <tr>\n      <th>3</th>\n      <td>1b9e28d0-c531-44b0-9b37-244e62a6d3f4</td>\n      <td>https://ll.thespacedevs.com/2.2.0/launch/1b9e2...</td>\n      <td>juno-i-explorer-1</td>\n      <td>Juno-I | Explorer 1</td>\n      <td>2022-11-21T00:23:16Z</td>\n      <td>1958-02-01T03:47:56Z</td>\n      <td>1958-02-01T03:47:56Z</td>\n      <td>1958-02-01T03:47:56Z</td>\n      <td>NaN</td>\n      <td>None</td>\n      <td>...</td>\n      <td>Cape Canaveral, FL, USA</td>\n      <td>USA</td>\n      <td>https://spacelaunchnow-prod-east.nyc3.digitalo...</td>\n      <td>864</td>\n      <td>26</td>\n      <td>https://spacelaunchnow-prod-east.nyc3.digitalo...</td>\n      <td>3</td>\n      <td>3</td>\n      <td>NaN</td>\n      <td>NaN</td>\n    </tr>\n    <tr>\n      <th>4</th>\n      <td>48bc7deb-b2e1-46c2-ab63-0ce00fbd192b</td>\n      <td>https://ll.thespacedevs.com/2.2.0/launch/48bc7...</td>\n      <td>vanguard-vanguard-2</td>\n      <td>Vanguard | Vanguard</td>\n      <td>2022-11-21T00:34:41Z</td>\n      <td>1958-02-05T07:33:00Z</td>\n      <td>1958-02-05T07:33:00Z</td>\n      <td>1958-02-05T07:33:00Z</td>\n      <td>NaN</td>\n      <td>None</td>\n      <td>...</td>\n      <td>Cape Canaveral, FL, USA</td>\n      <td>USA</td>\n      <td>https://spacelaunchnow-prod-east.nyc3.digitalo...</td>\n      <td>864</td>\n      <td>26</td>\n      <td>https://spacelaunchnow-prod-east.nyc3.digitalo...</td>\n      <td>18</td>\n      <td>11</td>\n      <td>NaN</td>\n      <td>NaN</td>\n    </tr>\n    <tr>\n      <th>...</th>\n      <td>...</td>\n      <td>...</td>\n      <td>...</td>\n      <td>...</td>\n      <td>...</td>\n      <td>...</td>\n      <td>...</td>\n      <td>...</td>\n      <td>...</td>\n      <td>...</td>\n      <td>...</td>\n      <td>...</td>\n      <td>...</td>\n      <td>...</td>\n      <td>...</td>\n      <td>...</td>\n      <td>...</td>\n      <td>...</td>\n      <td>...</td>\n      <td>...</td>\n      <td>...</td>\n    </tr>\n    <tr>\n      <th>6751</th>\n      <td>a6420d1c-681c-46be-8d22-87c4b4586bee</td>\n      <td>https://ll.thespacedevs.com/2.2.0/launch/a6420...</td>\n      <td>ariane-64-mtg-i3</td>\n      <td>Ariane 64 | MTG-I3</td>\n      <td>2022-11-22T01:05:41Z</td>\n      <td>2032-12-31T00:00:00Z</td>\n      <td>2032-12-31T00:00:00Z</td>\n      <td>2032-12-31T00:00:00Z</td>\n      <td>NaN</td>\n      <td></td>\n      <td>...</td>\n      <td>Kourou, French Guiana</td>\n      <td>GUF</td>\n      <td>https://spacelaunchnow-prod-east.nyc3.digitalo...</td>\n      <td>315</td>\n      <td>0</td>\n      <td>https://spacelaunchnow-prod-east.nyc3.digitalo...</td>\n      <td>0</td>\n      <td>0</td>\n      <td>NaN</td>\n      <td>NaN</td>\n    </tr>\n    <tr>\n      <th>6752</th>\n      <td>9c13e218-3b75-4d32-b984-68e974affb87</td>\n      <td>https://ll.thespacedevs.com/2.2.0/launch/9c13e...</td>\n      <td>ariane-64-mtg-s2</td>\n      <td>Ariane 64 | MTG-S2</td>\n      <td>2022-11-22T01:02:57Z</td>\n      <td>2034-12-31T00:00:00Z</td>\n      <td>2034-12-31T00:00:00Z</td>\n      <td>2034-12-31T00:00:00Z</td>\n      <td>NaN</td>\n      <td></td>\n      <td>...</td>\n      <td>Kourou, French Guiana</td>\n      <td>GUF</td>\n      <td>https://spacelaunchnow-prod-east.nyc3.digitalo...</td>\n      <td>315</td>\n      <td>0</td>\n      <td>https://spacelaunchnow-prod-east.nyc3.digitalo...</td>\n      <td>0</td>\n      <td>0</td>\n      <td>NaN</td>\n      <td>NaN</td>\n    </tr>\n    <tr>\n      <th>6753</th>\n      <td>7bae1d97-d479-4d4e-98b6-289202f99397</td>\n      <td>https://ll.thespacedevs.com/2.2.0/launch/7bae1...</td>\n      <td>ariane-62-metop-sg-a3</td>\n      <td>Ariane 62 | Metop-SG A3</td>\n      <td>2022-11-22T00:53:31Z</td>\n      <td>2038-12-31T00:00:00Z</td>\n      <td>2038-12-31T00:00:00Z</td>\n      <td>2038-12-31T00:00:00Z</td>\n      <td>NaN</td>\n      <td></td>\n      <td>...</td>\n      <td>Kourou, French Guiana</td>\n      <td>GUF</td>\n      <td>https://spacelaunchnow-prod-east.nyc3.digitalo...</td>\n      <td>315</td>\n      <td>0</td>\n      <td>https://spacelaunchnow-prod-east.nyc3.digitalo...</td>\n      <td>0</td>\n      <td>0</td>\n      <td>NaN</td>\n      <td>NaN</td>\n    </tr>\n    <tr>\n      <th>6754</th>\n      <td>36706be0-2633-4b1f-a036-5da1e19c6872</td>\n      <td>https://ll.thespacedevs.com/2.2.0/launch/36706...</td>\n      <td>ariane-62-metop-sg-b3</td>\n      <td>Ariane 62 | Metop-SG B3</td>\n      <td>2022-11-22T00:33:38Z</td>\n      <td>2039-12-31T00:00:00Z</td>\n      <td>2039-12-31T00:00:00Z</td>\n      <td>2039-12-31T00:00:00Z</td>\n      <td>NaN</td>\n      <td></td>\n      <td>...</td>\n      <td>Kourou, French Guiana</td>\n      <td>GUF</td>\n      <td>https://spacelaunchnow-prod-east.nyc3.digitalo...</td>\n      <td>315</td>\n      <td>0</td>\n      <td>https://spacelaunchnow-prod-east.nyc3.digitalo...</td>\n      <td>0</td>\n      <td>0</td>\n      <td>NaN</td>\n      <td>NaN</td>\n    </tr>\n    <tr>\n      <th>6755</th>\n      <td>f2043f7f-3c12-4511-8869-823f298498c4</td>\n      <td>https://ll.thespacedevs.com/2.2.0/launch/f2043...</td>\n      <td>ariane-64-mtg-i4</td>\n      <td>Ariane 64 | MTG-I4</td>\n      <td>2022-11-21T20:24:02Z</td>\n      <td>2042-12-31T00:00:00Z</td>\n      <td>2042-12-31T00:00:00Z</td>\n      <td>2042-12-31T00:00:00Z</td>\n      <td>NaN</td>\n      <td></td>\n      <td>...</td>\n      <td>Kourou, French Guiana</td>\n      <td>GUF</td>\n      <td>https://spacelaunchnow-prod-east.nyc3.digitalo...</td>\n      <td>315</td>\n      <td>0</td>\n      <td>https://spacelaunchnow-prod-east.nyc3.digitalo...</td>\n      <td>0</td>\n      <td>0</td>\n      <td>NaN</td>\n      <td>NaN</td>\n    </tr>\n  </tbody>\n</table>\n<p>6756 rows × 68 columns</p>\n</div>"
     },
     "execution_count": 8,
     "metadata": {},
     "output_type": "execute_result"
    }
   ],
   "source": [
    "df_launch"
   ]
  },
  {
   "cell_type": "code",
   "execution_count": 9,
   "metadata": {
    "pycharm": {
     "name": "#%%\n"
    }
   },
   "outputs": [
    {
     "data": {
      "text/plain": "Index(['id', 'url', 'slug', 'name', 'last_updated', 'net', 'window_end',\n       'window_start', 'probability', 'holdreason', 'failreason', 'hashtag',\n       'webcast_live', 'image', 'infographic', 'program',\n       'orbital_launch_attempt_count', 'location_launch_attempt_count',\n       'pad_launch_attempt_count', 'agency_launch_attempt_count',\n       'orbital_launch_attempt_count_year',\n       'location_launch_attempt_count_year', 'pad_launch_attempt_count_year',\n       'agency_launch_attempt_count_year', 'status.id', 'status.name',\n       'status.abbrev', 'status.description', 'launch_service_provider.id',\n       'launch_service_provider.url', 'launch_service_provider.name',\n       'launch_service_provider.type', 'rocket.id', 'rocket.configuration.id',\n       'rocket.configuration.url', 'rocket.configuration.name',\n       'rocket.configuration.family', 'rocket.configuration.full_name',\n       'rocket.configuration.variant', 'mission.id', 'mission.name',\n       'mission.description', 'mission.launch_designator', 'mission.type',\n       'mission.orbit.id', 'mission.orbit.name', 'mission.orbit.abbrev',\n       'pad.id', 'pad.url', 'pad.agency_id', 'pad.name', 'pad.info_url',\n       'pad.wiki_url', 'pad.map_url', 'pad.latitude', 'pad.longitude',\n       'pad.location.id', 'pad.location.url', 'pad.location.name',\n       'pad.location.country_code', 'pad.location.map_image',\n       'pad.location.total_launch_count', 'pad.location.total_landing_count',\n       'pad.map_image', 'pad.total_launch_count',\n       'pad.orbital_launch_attempt_count', 'mission', 'mission.orbit'],\n      dtype='object')"
     },
     "execution_count": 9,
     "metadata": {},
     "output_type": "execute_result"
    }
   ],
   "source": [
    "df_launch.columns"
   ]
  },
  {
   "cell_type": "code",
   "execution_count": 10,
   "metadata": {
    "pycharm": {
     "name": "#%%\n"
    }
   },
   "outputs": [],
   "source": [
    "df_launch.drop(columns=['rocket.configuration.id',\n",
    "       'rocket.configuration.url', 'rocket.configuration.name',\n",
    "       'rocket.configuration.family', 'rocket.configuration.full_name',\n",
    "       'rocket.configuration.variant', 'mission.id', 'mission.name',\n",
    "       'mission.description', 'mission.launch_designator', 'mission.type',\n",
    "       'mission.orbit.id', 'mission.orbit.name', 'mission.orbit.abbrev',\n",
    "       'pad.url', 'pad.agency_id', 'pad.info_url',\n",
    "       'pad.wiki_url', 'pad.map_url',\n",
    "       'pad.location.id', 'pad.location.url',\n",
    "       'pad.location.country_code', 'pad.location.map_image',\n",
    "       'pad.location.total_launch_count', 'pad.location.total_landing_count',\n",
    "       'pad.map_image', 'pad.total_launch_count',\n",
    "       'pad.orbital_launch_attempt_count', 'mission', 'mission.orbit'], inplace=True)"
   ]
  },
  {
   "cell_type": "code",
   "execution_count": 11,
   "metadata": {
    "pycharm": {
     "name": "#%%\n"
    }
   },
   "outputs": [
    {
     "data": {
      "text/plain": "Index(['id', 'url', 'slug', 'name', 'last_updated', 'net', 'window_end',\n       'window_start', 'probability', 'holdreason', 'failreason', 'hashtag',\n       'webcast_live', 'image', 'infographic', 'program',\n       'orbital_launch_attempt_count', 'location_launch_attempt_count',\n       'pad_launch_attempt_count', 'agency_launch_attempt_count',\n       'orbital_launch_attempt_count_year',\n       'location_launch_attempt_count_year', 'pad_launch_attempt_count_year',\n       'agency_launch_attempt_count_year', 'status.id', 'status.name',\n       'status.abbrev', 'status.description', 'launch_service_provider.id',\n       'launch_service_provider.url', 'launch_service_provider.name',\n       'launch_service_provider.type', 'rocket.id', 'pad.id', 'pad.name',\n       'pad.latitude', 'pad.longitude', 'pad.location.name'],\n      dtype='object')"
     },
     "execution_count": 11,
     "metadata": {},
     "output_type": "execute_result"
    }
   ],
   "source": [
    "df_launch.columns"
   ]
  },
  {
   "cell_type": "code",
   "execution_count": 12,
   "metadata": {
    "pycharm": {
     "name": "#%%\n"
    }
   },
   "outputs": [
    {
     "data": {
      "text/plain": "      id                                              url  flight_proven  \\\n0     88   https://ll.thespacedevs.com/2.2.0/launcher/88/           True   \n1     97   https://ll.thespacedevs.com/2.2.0/launcher/97/           True   \n2    104  https://ll.thespacedevs.com/2.2.0/launcher/104/           True   \n3    110  https://ll.thespacedevs.com/2.2.0/launcher/110/          False   \n4    119  https://ll.thespacedevs.com/2.2.0/launcher/119/          False   \n..   ...                                              ...            ...   \n112   83   https://ll.thespacedevs.com/2.2.0/launcher/83/           True   \n113   89   https://ll.thespacedevs.com/2.2.0/launcher/89/           True   \n114   74   https://ll.thespacedevs.com/2.2.0/launcher/74/           True   \n115  106  https://ll.thespacedevs.com/2.2.0/launcher/106/          False   \n116  117  https://ll.thespacedevs.com/2.2.0/launcher/117/          False   \n\n    serial_number     status  \\\n0              16    retired   \n1              20    retired   \n2              22    retired   \n3              26     active   \n4              32     Active   \n..            ...        ...   \n112           SN8  destroyed   \n113           SN9  destroyed   \n114    Starhopper    retired   \n115    Unknown F9        N/A   \n116    Unknown FH        N/A   \n\n                                               details  \\\n0    Electron first stage used for Rocket Lab's 'Re...   \n1    Booster used for Electron's 20th flight (Runni...   \n2    Booster used for Electron's 22nd flight (Love ...   \n3    First stage used for Electron's 26th flight (T...   \n4    32nd Electron launch vehicle flown on 'Catch M...   \n..                                                 ...   \n112  SN8 was destroyed when attempting to land afte...   \n113  SN9 is the first starship prototype to be full...   \n114  First prototype of the Starship vehicle. Starh...   \n115                     Booster serial number unknown.   \n116                     Booster serial number unknown.   \n\n                                             image_url  flights  \\\n0    https://spacelaunchnow-prod-east.nyc3.digitalo...        1   \n1    https://spacelaunchnow-prod-east.nyc3.digitalo...        1   \n2    https://spacelaunchnow-prod-east.nyc3.digitalo...        1   \n3    https://spacelaunchnow-prod-east.nyc3.digitalo...        1   \n4    https://spacelaunchnow-prod-east.nyc3.digitalo...        1   \n..                                                 ...      ...   \n112  https://spacelaunchnow-prod-east.nyc3.digitalo...        1   \n113  https://spacelaunchnow-prod-east.nyc3.digitalo...        1   \n114  https://spacelaunchnow-prod-east.nyc3.digitalo...        2   \n115                                               None        0   \n116                                               None        0   \n\n         last_launch_date     first_launch_date  launcher_config.id  \\\n0    2020-11-20T02:20:00Z  2020-11-20T02:20:00Z                26.0   \n1    2021-05-15T11:11:00Z  2021-05-15T11:11:00Z                26.0   \n2    2021-11-18T01:38:13Z  2021-11-18T01:38:13Z                26.0   \n3    2022-05-02T22:49:52Z  2022-05-02T22:49:52Z                26.0   \n4    2022-11-04T17:27:14Z  2022-11-04T17:27:14Z                26.0   \n..                    ...                   ...                 ...   \n112  2020-12-09T22:45:25Z  2020-12-09T22:45:25Z               207.0   \n113  2021-02-02T20:25:15Z  2021-02-02T20:25:15Z               207.0   \n114  2019-08-27T22:02:00Z  2019-07-26T03:45:00Z               207.0   \n115                  None                  None               164.0   \n116                  None                  None               161.0   \n\n                                   launcher_config.url launcher_config.name  \\\n0    https://ll.thespacedevs.com/2.2.0/config/launc...             Electron   \n1    https://ll.thespacedevs.com/2.2.0/config/launc...             Electron   \n2    https://ll.thespacedevs.com/2.2.0/config/launc...             Electron   \n3    https://ll.thespacedevs.com/2.2.0/config/launc...             Electron   \n4    https://ll.thespacedevs.com/2.2.0/config/launc...             Electron   \n..                                                 ...                  ...   \n112  https://ll.thespacedevs.com/2.2.0/config/launc...   Starship Prototype   \n113  https://ll.thespacedevs.com/2.2.0/config/launc...   Starship Prototype   \n114  https://ll.thespacedevs.com/2.2.0/config/launc...   Starship Prototype   \n115  https://ll.thespacedevs.com/2.2.0/config/launc...             Falcon 9   \n116  https://ll.thespacedevs.com/2.2.0/config/launc...         Falcon Heavy   \n\n    launcher_config.family launcher_config.full_name launcher_config.variant  \\\n0                 Electron                  Electron                           \n1                 Electron                  Electron                           \n2                 Electron                  Electron                           \n3                 Electron                  Electron                           \n4                 Electron                  Electron                           \n..                     ...                       ...                     ...   \n112               Starship        Starship Prototype               Prototype   \n113               Starship        Starship Prototype               Prototype   \n114               Starship        Starship Prototype               Prototype   \n115                 Falcon          Falcon 9 Block 5                 Block 5   \n116                 Falcon              Falcon Heavy                   Heavy   \n\n     launcher_config  \n0                NaN  \n1                NaN  \n2                NaN  \n3                NaN  \n4                NaN  \n..               ...  \n112              NaN  \n113              NaN  \n114              NaN  \n115              NaN  \n116              NaN  \n\n[117 rows x 17 columns]",
      "text/html": "<div>\n<style scoped>\n    .dataframe tbody tr th:only-of-type {\n        vertical-align: middle;\n    }\n\n    .dataframe tbody tr th {\n        vertical-align: top;\n    }\n\n    .dataframe thead th {\n        text-align: right;\n    }\n</style>\n<table border=\"1\" class=\"dataframe\">\n  <thead>\n    <tr style=\"text-align: right;\">\n      <th></th>\n      <th>id</th>\n      <th>url</th>\n      <th>flight_proven</th>\n      <th>serial_number</th>\n      <th>status</th>\n      <th>details</th>\n      <th>image_url</th>\n      <th>flights</th>\n      <th>last_launch_date</th>\n      <th>first_launch_date</th>\n      <th>launcher_config.id</th>\n      <th>launcher_config.url</th>\n      <th>launcher_config.name</th>\n      <th>launcher_config.family</th>\n      <th>launcher_config.full_name</th>\n      <th>launcher_config.variant</th>\n      <th>launcher_config</th>\n    </tr>\n  </thead>\n  <tbody>\n    <tr>\n      <th>0</th>\n      <td>88</td>\n      <td>https://ll.thespacedevs.com/2.2.0/launcher/88/</td>\n      <td>True</td>\n      <td>16</td>\n      <td>retired</td>\n      <td>Electron first stage used for Rocket Lab's 'Re...</td>\n      <td>https://spacelaunchnow-prod-east.nyc3.digitalo...</td>\n      <td>1</td>\n      <td>2020-11-20T02:20:00Z</td>\n      <td>2020-11-20T02:20:00Z</td>\n      <td>26.0</td>\n      <td>https://ll.thespacedevs.com/2.2.0/config/launc...</td>\n      <td>Electron</td>\n      <td>Electron</td>\n      <td>Electron</td>\n      <td></td>\n      <td>NaN</td>\n    </tr>\n    <tr>\n      <th>1</th>\n      <td>97</td>\n      <td>https://ll.thespacedevs.com/2.2.0/launcher/97/</td>\n      <td>True</td>\n      <td>20</td>\n      <td>retired</td>\n      <td>Booster used for Electron's 20th flight (Runni...</td>\n      <td>https://spacelaunchnow-prod-east.nyc3.digitalo...</td>\n      <td>1</td>\n      <td>2021-05-15T11:11:00Z</td>\n      <td>2021-05-15T11:11:00Z</td>\n      <td>26.0</td>\n      <td>https://ll.thespacedevs.com/2.2.0/config/launc...</td>\n      <td>Electron</td>\n      <td>Electron</td>\n      <td>Electron</td>\n      <td></td>\n      <td>NaN</td>\n    </tr>\n    <tr>\n      <th>2</th>\n      <td>104</td>\n      <td>https://ll.thespacedevs.com/2.2.0/launcher/104/</td>\n      <td>True</td>\n      <td>22</td>\n      <td>retired</td>\n      <td>Booster used for Electron's 22nd flight (Love ...</td>\n      <td>https://spacelaunchnow-prod-east.nyc3.digitalo...</td>\n      <td>1</td>\n      <td>2021-11-18T01:38:13Z</td>\n      <td>2021-11-18T01:38:13Z</td>\n      <td>26.0</td>\n      <td>https://ll.thespacedevs.com/2.2.0/config/launc...</td>\n      <td>Electron</td>\n      <td>Electron</td>\n      <td>Electron</td>\n      <td></td>\n      <td>NaN</td>\n    </tr>\n    <tr>\n      <th>3</th>\n      <td>110</td>\n      <td>https://ll.thespacedevs.com/2.2.0/launcher/110/</td>\n      <td>False</td>\n      <td>26</td>\n      <td>active</td>\n      <td>First stage used for Electron's 26th flight (T...</td>\n      <td>https://spacelaunchnow-prod-east.nyc3.digitalo...</td>\n      <td>1</td>\n      <td>2022-05-02T22:49:52Z</td>\n      <td>2022-05-02T22:49:52Z</td>\n      <td>26.0</td>\n      <td>https://ll.thespacedevs.com/2.2.0/config/launc...</td>\n      <td>Electron</td>\n      <td>Electron</td>\n      <td>Electron</td>\n      <td></td>\n      <td>NaN</td>\n    </tr>\n    <tr>\n      <th>4</th>\n      <td>119</td>\n      <td>https://ll.thespacedevs.com/2.2.0/launcher/119/</td>\n      <td>False</td>\n      <td>32</td>\n      <td>Active</td>\n      <td>32nd Electron launch vehicle flown on 'Catch M...</td>\n      <td>https://spacelaunchnow-prod-east.nyc3.digitalo...</td>\n      <td>1</td>\n      <td>2022-11-04T17:27:14Z</td>\n      <td>2022-11-04T17:27:14Z</td>\n      <td>26.0</td>\n      <td>https://ll.thespacedevs.com/2.2.0/config/launc...</td>\n      <td>Electron</td>\n      <td>Electron</td>\n      <td>Electron</td>\n      <td></td>\n      <td>NaN</td>\n    </tr>\n    <tr>\n      <th>...</th>\n      <td>...</td>\n      <td>...</td>\n      <td>...</td>\n      <td>...</td>\n      <td>...</td>\n      <td>...</td>\n      <td>...</td>\n      <td>...</td>\n      <td>...</td>\n      <td>...</td>\n      <td>...</td>\n      <td>...</td>\n      <td>...</td>\n      <td>...</td>\n      <td>...</td>\n      <td>...</td>\n      <td>...</td>\n    </tr>\n    <tr>\n      <th>112</th>\n      <td>83</td>\n      <td>https://ll.thespacedevs.com/2.2.0/launcher/83/</td>\n      <td>True</td>\n      <td>SN8</td>\n      <td>destroyed</td>\n      <td>SN8 was destroyed when attempting to land afte...</td>\n      <td>https://spacelaunchnow-prod-east.nyc3.digitalo...</td>\n      <td>1</td>\n      <td>2020-12-09T22:45:25Z</td>\n      <td>2020-12-09T22:45:25Z</td>\n      <td>207.0</td>\n      <td>https://ll.thespacedevs.com/2.2.0/config/launc...</td>\n      <td>Starship Prototype</td>\n      <td>Starship</td>\n      <td>Starship Prototype</td>\n      <td>Prototype</td>\n      <td>NaN</td>\n    </tr>\n    <tr>\n      <th>113</th>\n      <td>89</td>\n      <td>https://ll.thespacedevs.com/2.2.0/launcher/89/</td>\n      <td>True</td>\n      <td>SN9</td>\n      <td>destroyed</td>\n      <td>SN9 is the first starship prototype to be full...</td>\n      <td>https://spacelaunchnow-prod-east.nyc3.digitalo...</td>\n      <td>1</td>\n      <td>2021-02-02T20:25:15Z</td>\n      <td>2021-02-02T20:25:15Z</td>\n      <td>207.0</td>\n      <td>https://ll.thespacedevs.com/2.2.0/config/launc...</td>\n      <td>Starship Prototype</td>\n      <td>Starship</td>\n      <td>Starship Prototype</td>\n      <td>Prototype</td>\n      <td>NaN</td>\n    </tr>\n    <tr>\n      <th>114</th>\n      <td>74</td>\n      <td>https://ll.thespacedevs.com/2.2.0/launcher/74/</td>\n      <td>True</td>\n      <td>Starhopper</td>\n      <td>retired</td>\n      <td>First prototype of the Starship vehicle. Starh...</td>\n      <td>https://spacelaunchnow-prod-east.nyc3.digitalo...</td>\n      <td>2</td>\n      <td>2019-08-27T22:02:00Z</td>\n      <td>2019-07-26T03:45:00Z</td>\n      <td>207.0</td>\n      <td>https://ll.thespacedevs.com/2.2.0/config/launc...</td>\n      <td>Starship Prototype</td>\n      <td>Starship</td>\n      <td>Starship Prototype</td>\n      <td>Prototype</td>\n      <td>NaN</td>\n    </tr>\n    <tr>\n      <th>115</th>\n      <td>106</td>\n      <td>https://ll.thespacedevs.com/2.2.0/launcher/106/</td>\n      <td>False</td>\n      <td>Unknown F9</td>\n      <td>N/A</td>\n      <td>Booster serial number unknown.</td>\n      <td>None</td>\n      <td>0</td>\n      <td>None</td>\n      <td>None</td>\n      <td>164.0</td>\n      <td>https://ll.thespacedevs.com/2.2.0/config/launc...</td>\n      <td>Falcon 9</td>\n      <td>Falcon</td>\n      <td>Falcon 9 Block 5</td>\n      <td>Block 5</td>\n      <td>NaN</td>\n    </tr>\n    <tr>\n      <th>116</th>\n      <td>117</td>\n      <td>https://ll.thespacedevs.com/2.2.0/launcher/117/</td>\n      <td>False</td>\n      <td>Unknown FH</td>\n      <td>N/A</td>\n      <td>Booster serial number unknown.</td>\n      <td>None</td>\n      <td>0</td>\n      <td>None</td>\n      <td>None</td>\n      <td>161.0</td>\n      <td>https://ll.thespacedevs.com/2.2.0/config/launc...</td>\n      <td>Falcon Heavy</td>\n      <td>Falcon</td>\n      <td>Falcon Heavy</td>\n      <td>Heavy</td>\n      <td>NaN</td>\n    </tr>\n  </tbody>\n</table>\n<p>117 rows × 17 columns</p>\n</div>"
     },
     "execution_count": 12,
     "metadata": {},
     "output_type": "execute_result"
    }
   ],
   "source": [
    "df_launcher"
   ]
  },
  {
   "cell_type": "code",
   "execution_count": 12,
   "metadata": {
    "pycharm": {
     "name": "#%%\n"
    }
   },
   "outputs": [],
   "source": []
  },
  {
   "cell_type": "code",
   "execution_count": 13,
   "metadata": {
    "pycharm": {
     "name": "#%%\n"
    }
   },
   "outputs": [],
   "source": [
    "df_launcher.drop( columns=['launcher_config.id', 'launcher_config.url', 'launcher_config.name', 'launcher_config','launcher_config.variant', 'launcher_config.family'], inplace=True)"
   ]
  },
  {
   "cell_type": "code",
   "execution_count": 14,
   "metadata": {
    "pycharm": {
     "name": "#%%\n"
    }
   },
   "outputs": [
    {
     "data": {
      "text/plain": "Index(['id', 'url', 'flight_proven', 'serial_number', 'status', 'details',\n       'image_url', 'flights', 'last_launch_date', 'first_launch_date',\n       'launcher_config.full_name'],\n      dtype='object')"
     },
     "execution_count": 14,
     "metadata": {},
     "output_type": "execute_result"
    }
   ],
   "source": [
    "df_launcher.columns"
   ]
  },
  {
   "cell_type": "code",
   "execution_count": 15,
   "metadata": {
    "pycharm": {
     "name": "#%%\n"
    }
   },
   "outputs": [
    {
     "data": {
      "text/plain": "id                                                                         110\nurl                            https://ll.thespacedevs.com/2.2.0/launcher/110/\nflight_proven                                                            False\nserial_number                                                               26\nstatus                                                                  active\ndetails                      First stage used for Electron's 26th flight (T...\nimage_url                    https://spacelaunchnow-prod-east.nyc3.digitalo...\nflights                                                                      1\nlast_launch_date                                          2022-05-02T22:49:52Z\nfirst_launch_date                                         2022-05-02T22:49:52Z\nlauncher_config.full_name                                             Electron\nName: 3, dtype: object"
     },
     "execution_count": 15,
     "metadata": {},
     "output_type": "execute_result"
    }
   ],
   "source": [
    "df_launcher.query('id[88]')"
   ]
  },
  {
   "cell_type": "code",
   "execution_count": null,
   "metadata": {
    "pycharm": {
     "name": "#%%\n"
    }
   },
   "outputs": [],
   "source": []
  }
 ],
 "metadata": {
  "kernelspec": {
   "display_name": "Python 3.10.4 64-bit",
   "language": "python",
   "name": "python3"
  },
  "language_info": {
   "codemirror_mode": {
    "name": "ipython",
    "version": 3
   },
   "file_extension": ".py",
   "mimetype": "text/x-python",
   "name": "python",
   "nbconvert_exporter": "python",
   "pygments_lexer": "ipython3",
   "version": "3.10.4"
  },
  "orig_nbformat": 4,
  "vscode": {
   "interpreter": {
    "hash": "8c3d4d9970fc5c09c50d9318a9c7fbf4d0159e4b28833276f5678ee22bded273"
   }
  }
 },
 "nbformat": 4,
 "nbformat_minor": 2
}